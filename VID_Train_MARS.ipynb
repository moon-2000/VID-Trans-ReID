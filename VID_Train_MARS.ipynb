{
  "cells": [
    {
      "cell_type": "markdown",
      "metadata": {
        "id": "view-in-github",
        "colab_type": "text"
      },
      "source": [
        "<a href=\"https://colab.research.google.com/github/moon-2000/VID-Trans-ReID/blob/main/VID_Train_MARS.ipynb\" target=\"_parent\"><img src=\"https://colab.research.google.com/assets/colab-badge.svg\" alt=\"Open In Colab\"/></a>"
      ]
    },
    {
      "cell_type": "markdown",
      "metadata": {
        "id": "VQsLu5RPTCbT"
      },
      "source": [
        "### Cloning VID Repository"
      ]
    },
    {
      "cell_type": "code",
      "execution_count": null,
      "metadata": {
        "colab": {
          "base_uri": "https://localhost:8080/"
        },
        "id": "hfgABWVISYYv",
        "outputId": "a109ae06-b666-4fe1-a2c2-f7b890fcea66"
      },
      "outputs": [
        {
          "name": "stdout",
          "output_type": "stream",
          "text": [
            "Cloning into 'VID-Trans-ReID'...\n",
            "remote: Enumerating objects: 122, done.\u001b[K\n",
            "remote: Counting objects: 100% (52/52), done.\u001b[K\n",
            "remote: Compressing objects: 100% (27/27), done.\u001b[K\n",
            "remote: Total 122 (delta 40), reused 25 (delta 25), pack-reused 70\u001b[K\n",
            "Receiving objects: 100% (122/122), 74.01 KiB | 12.33 MiB/s, done.\n",
            "Resolving deltas: 100% (59/59), done.\n"
          ]
        }
      ],
      "source": [
        "#!git clone https://github.com/AishahAADU/VID-Trans-ReID.git"
      ]
    },
    {
      "cell_type": "markdown",
      "metadata": {
        "id": "eF75V9ctUUpj"
      },
      "source": [
        "### Mounting Drive"
      ]
    },
    {
      "cell_type": "code",
      "execution_count": 1,
      "metadata": {
        "colab": {
          "base_uri": "https://localhost:8080/"
        },
        "id": "AHcgqdfxT-RC",
        "outputId": "fe50fe38-426c-473b-8caf-979a9b321bd6"
      },
      "outputs": [
        {
          "output_type": "stream",
          "name": "stdout",
          "text": [
            "Mounted at /content/drive\n"
          ]
        }
      ],
      "source": [
        "# mounting the drive (connecting colab to the drive folder of the project)\n",
        "from google.colab import drive\n",
        "drive.mount('/content/drive')"
      ]
    },
    {
      "cell_type": "code",
      "execution_count": null,
      "metadata": {
        "id": "IksGoDTur42P",
        "colab": {
          "base_uri": "https://localhost:8080/"
        },
        "outputId": "981d547c-d26e-4be5-c410-064f7e65abe8"
      },
      "outputs": [
        {
          "output_type": "stream",
          "name": "stdout",
          "text": [
            "cp: cannot stat '/content/drive/MyDrive/Colab_Notebooks/VID/VID-Trans-ReID': No such file or directory\n"
          ]
        }
      ],
      "source": [
        "%cp  -r /content/drive/MyDrive/Colab_Notebooks/VID/VID-Trans-ReID   /content/"
      ]
    },
    {
      "cell_type": "markdown",
      "metadata": {
        "id": "qgVULRLLUh1V"
      },
      "source": [
        "### Installing VID repository and MARS dataset on Drive"
      ]
    },
    {
      "cell_type": "code",
      "source": [],
      "metadata": {
        "id": "LqcqhPSwRIE4"
      },
      "execution_count": null,
      "outputs": []
    },
    {
      "cell_type": "code",
      "execution_count": null,
      "metadata": {
        "id": "E9OklnD4U0Ss"
      },
      "outputs": [],
      "source": [
        "# to save the folder after cloning on drive (make a copy and save it on drive)\n",
        "#!cp -r VID-Trans-ReID drive/MyDrive/Colab_Notebooks/VID"
      ]
    },
    {
      "cell_type": "code",
      "execution_count": null,
      "metadata": {
        "colab": {
          "base_uri": "https://localhost:8080/"
        },
        "id": "K8459KnPXDan",
        "outputId": "050238d7-09d0-46f9-b861-28917f884146"
      },
      "outputs": [
        {
          "output_type": "stream",
          "name": "stdout",
          "text": [
            "drive  sample_data  VID-Trans-ReID\n"
          ]
        }
      ],
      "source": [
        "# to check the home directory content\n",
        "!ls"
      ]
    },
    {
      "cell_type": "code",
      "execution_count": null,
      "metadata": {
        "id": "kVw7smz0wqo_"
      },
      "outputs": [],
      "source": [
        "# to copy the zipeed dataset file from drive to colab environment\n",
        "%cp /content/drive/MyDrive/Colab_Notebooks/VID/MARS/MARS.zip  /content/"
      ]
    },
    {
      "cell_type": "code",
      "execution_count": null,
      "metadata": {
        "id": "fgCQ42qRrj8u",
        "colab": {
          "base_uri": "https://localhost:8080/"
        },
        "outputId": "bcf9946c-5858-43b7-cf73-1e4db57ced49"
      },
      "outputs": [
        {
          "output_type": "stream",
          "name": "stdout",
          "text": [
            "\u001b[0m\u001b[01;34msample_data\u001b[0m/\n"
          ]
        }
      ],
      "source": [
        "!sleep 10\n",
        "%ls"
      ]
    },
    {
      "cell_type": "code",
      "execution_count": null,
      "metadata": {
        "id": "kH4lyVVk2Wj7"
      },
      "outputs": [],
      "source": [
        " # to unzip MARS dataset\n",
        "!unzip /content/MARS.zip -d /content/MARS"
      ]
    },
    {
      "cell_type": "code",
      "execution_count": null,
      "metadata": {
        "id": "LZ8o40AjrEIt"
      },
      "outputs": [],
      "source": []
    },
    {
      "cell_type": "code",
      "execution_count": null,
      "metadata": {
        "id": "5xlmxHI2rN7F"
      },
      "outputs": [],
      "source": [
        "%%shell\n",
        "mv /content/MARS/bbox_test /content/MARS/bbox_test2\n",
        "mv /content/MARS/bbox_test2/bbox_test /content/MARS/\n",
        "rm -r /content/MARS/bbox_test2\n",
        "mv /content/MARS/bbox_train /content/MARS/bbox_train2\n",
        "mv /content/MARS/bbox_train2/bbox_train /content/MARS/\n",
        "rm -r /content/MARS/bbox_train2"
      ]
    },
    {
      "cell_type": "code",
      "execution_count": null,
      "metadata": {
        "id": "Mr6G8kTIuz2S"
      },
      "outputs": [],
      "source": [
        "%cp /content/drive/MyDrive/Colab_Notebooks/VID/MARS/info.zip  /content/"
      ]
    },
    {
      "cell_type": "code",
      "execution_count": null,
      "metadata": {
        "colab": {
          "base_uri": "https://localhost:8080/"
        },
        "id": "f1UBqfsmvFjx",
        "outputId": "2c4aac03-a8de-403c-a049-08dc68de412a"
      },
      "outputs": [
        {
          "output_type": "stream",
          "name": "stdout",
          "text": [
            "unzip:  cannot find or open info.zip, info.zip.zip or info.zip.ZIP.\n"
          ]
        }
      ],
      "source": [
        "!unzip info.zip -d /content/MARS"
      ]
    },
    {
      "cell_type": "code",
      "execution_count": null,
      "metadata": {
        "colab": {
          "base_uri": "https://localhost:8080/"
        },
        "id": "cMGa3igDXF3w",
        "outputId": "f6496a5a-2f29-47c5-fd85-e231e35cef86"
      },
      "outputs": [
        {
          "output_type": "stream",
          "name": "stdout",
          "text": [
            "/content/VID-Trans-ReID\n"
          ]
        }
      ],
      "source": [
        "# open the VID repo\n",
        "%cd /content/VID-Trans-ReID"
      ]
    },
    {
      "cell_type": "code",
      "execution_count": null,
      "metadata": {
        "colab": {
          "base_uri": "https://localhost:8080/"
        },
        "id": "x4C9B75TXTsf",
        "outputId": "5b030d4a-4a3d-4035-bd27-1bd619d765bf"
      },
      "outputs": [
        {
          "output_type": "stream",
          "name": "stdout",
          "text": [
            "checkpoints    loss\t    README.md\t      utility.py\t  VID_Trans_ReID.py\n",
            "Dataloader.py  Loss_fun.py  requirements.txt  VID_Test.py\t  visualize_results.py\n",
            "Datasets       __pycache__  results\t      VID_Trans_model.py  vit_ID.py\n"
          ]
        }
      ],
      "source": [
        " # check the repo content (to be sure you are in the directory)\n",
        "!ls"
      ]
    },
    {
      "cell_type": "code",
      "execution_count": null,
      "metadata": {
        "id": "SCjpKm1SDa8r"
      },
      "outputs": [],
      "source": [
        "# to download MARS dataset - ONLY 5kB are downloaded - NOT WOrking\n",
        "# !wget -O MARS.zip \"https://www.kaggle.com/datasets/twoboysandhats/mars-motion-analysis-and-reidentification-set/download?datasetVersionNumber=1\""
      ]
    },
    {
      "cell_type": "markdown",
      "metadata": {
        "id": "1EGqT0Rkhsy-"
      },
      "source": []
    },
    {
      "cell_type": "code",
      "execution_count": null,
      "metadata": {
        "id": "YiXjsMPmDvJQ"
      },
      "outputs": [],
      "source": [
        "# to move the dataset into drive\n",
        "# %mv MARS /content/drive/MyDrive/Colab_Notebooks/VID"
      ]
    },
    {
      "cell_type": "markdown",
      "metadata": {
        "id": "_SzcUc6LXV7B"
      },
      "source": [
        "### Installing Requirements"
      ]
    },
    {
      "cell_type": "code",
      "execution_count": null,
      "metadata": {
        "colab": {
          "base_uri": "https://localhost:8080/"
        },
        "id": "XFk9AQ8UXgE_",
        "outputId": "7a0b3805-9c2a-4d82-e335-665c6b2ad4ff"
      },
      "outputs": [
        {
          "output_type": "stream",
          "name": "stdout",
          "text": [
            "Requirement already satisfied: torch in /usr/local/lib/python3.10/dist-packages (from -r requirements.txt (line 1)) (2.1.0+cu118)\n",
            "Requirement already satisfied: torchvision in /usr/local/lib/python3.10/dist-packages (from -r requirements.txt (line 2)) (0.16.0+cu118)\n",
            "Collecting timm (from -r requirements.txt (line 3))\n",
            "  Downloading timm-0.9.8-py3-none-any.whl (2.2 MB)\n",
            "\u001b[2K     \u001b[90m━━━━━━━━━━━━━━━━━━━━━━━━━━━━━━━━━━━━━━━━\u001b[0m \u001b[32m2.2/2.2 MB\u001b[0m \u001b[31m10.3 MB/s\u001b[0m eta \u001b[36m0:00:00\u001b[0m\n",
            "\u001b[?25hCollecting yacs (from -r requirements.txt (line 4))\n",
            "  Downloading yacs-0.1.8-py3-none-any.whl (14 kB)\n",
            "Requirement already satisfied: opencv-python in /usr/local/lib/python3.10/dist-packages (from -r requirements.txt (line 5)) (4.8.0.76)\n",
            "Requirement already satisfied: filelock in /usr/local/lib/python3.10/dist-packages (from torch->-r requirements.txt (line 1)) (3.12.4)\n",
            "Requirement already satisfied: typing-extensions in /usr/local/lib/python3.10/dist-packages (from torch->-r requirements.txt (line 1)) (4.5.0)\n",
            "Requirement already satisfied: sympy in /usr/local/lib/python3.10/dist-packages (from torch->-r requirements.txt (line 1)) (1.12)\n",
            "Requirement already satisfied: networkx in /usr/local/lib/python3.10/dist-packages (from torch->-r requirements.txt (line 1)) (3.2)\n",
            "Requirement already satisfied: jinja2 in /usr/local/lib/python3.10/dist-packages (from torch->-r requirements.txt (line 1)) (3.1.2)\n",
            "Requirement already satisfied: fsspec in /usr/local/lib/python3.10/dist-packages (from torch->-r requirements.txt (line 1)) (2023.6.0)\n",
            "Requirement already satisfied: triton==2.1.0 in /usr/local/lib/python3.10/dist-packages (from torch->-r requirements.txt (line 1)) (2.1.0)\n",
            "Requirement already satisfied: numpy in /usr/local/lib/python3.10/dist-packages (from torchvision->-r requirements.txt (line 2)) (1.23.5)\n",
            "Requirement already satisfied: requests in /usr/local/lib/python3.10/dist-packages (from torchvision->-r requirements.txt (line 2)) (2.31.0)\n",
            "Requirement already satisfied: pillow!=8.3.*,>=5.3.0 in /usr/local/lib/python3.10/dist-packages (from torchvision->-r requirements.txt (line 2)) (9.4.0)\n",
            "Requirement already satisfied: pyyaml in /usr/local/lib/python3.10/dist-packages (from timm->-r requirements.txt (line 3)) (6.0.1)\n",
            "Collecting huggingface-hub (from timm->-r requirements.txt (line 3))\n",
            "  Downloading huggingface_hub-0.18.0-py3-none-any.whl (301 kB)\n",
            "\u001b[2K     \u001b[90m━━━━━━━━━━━━━━━━━━━━━━━━━━━━━━━━━━━━━━━━\u001b[0m \u001b[32m302.0/302.0 kB\u001b[0m \u001b[31m11.9 MB/s\u001b[0m eta \u001b[36m0:00:00\u001b[0m\n",
            "\u001b[?25hCollecting safetensors (from timm->-r requirements.txt (line 3))\n",
            "  Downloading safetensors-0.4.0-cp310-cp310-manylinux_2_17_x86_64.manylinux2014_x86_64.whl (1.3 MB)\n",
            "\u001b[2K     \u001b[90m━━━━━━━━━━━━━━━━━━━━━━━━━━━━━━━━━━━━━━━━\u001b[0m \u001b[32m1.3/1.3 MB\u001b[0m \u001b[31m19.9 MB/s\u001b[0m eta \u001b[36m0:00:00\u001b[0m\n",
            "\u001b[?25hRequirement already satisfied: tqdm>=4.42.1 in /usr/local/lib/python3.10/dist-packages (from huggingface-hub->timm->-r requirements.txt (line 3)) (4.66.1)\n",
            "Requirement already satisfied: packaging>=20.9 in /usr/local/lib/python3.10/dist-packages (from huggingface-hub->timm->-r requirements.txt (line 3)) (23.2)\n",
            "Requirement already satisfied: MarkupSafe>=2.0 in /usr/local/lib/python3.10/dist-packages (from jinja2->torch->-r requirements.txt (line 1)) (2.1.3)\n",
            "Requirement already satisfied: charset-normalizer<4,>=2 in /usr/local/lib/python3.10/dist-packages (from requests->torchvision->-r requirements.txt (line 2)) (3.3.1)\n",
            "Requirement already satisfied: idna<4,>=2.5 in /usr/local/lib/python3.10/dist-packages (from requests->torchvision->-r requirements.txt (line 2)) (3.4)\n",
            "Requirement already satisfied: urllib3<3,>=1.21.1 in /usr/local/lib/python3.10/dist-packages (from requests->torchvision->-r requirements.txt (line 2)) (2.0.7)\n",
            "Requirement already satisfied: certifi>=2017.4.17 in /usr/local/lib/python3.10/dist-packages (from requests->torchvision->-r requirements.txt (line 2)) (2023.7.22)\n",
            "Requirement already satisfied: mpmath>=0.19 in /usr/local/lib/python3.10/dist-packages (from sympy->torch->-r requirements.txt (line 1)) (1.3.0)\n",
            "Installing collected packages: yacs, safetensors, huggingface-hub, timm\n",
            "Successfully installed huggingface-hub-0.18.0 safetensors-0.4.0 timm-0.9.8 yacs-0.1.8\n"
          ]
        }
      ],
      "source": [
        "!pip install -r requirements.txt"
      ]
    },
    {
      "cell_type": "markdown",
      "metadata": {
        "id": "QcyVu-i1dgOV"
      },
      "source": [
        "### Train and Evaluate on MARS Dataset"
      ]
    },
    {
      "cell_type": "code",
      "execution_count": null,
      "metadata": {
        "id": "3CCv8wG9MwTq"
      },
      "outputs": [],
      "source": [
        "# Remember to change  in vit_ID.py line 9\n",
        "#from torch._six import container_abcs            to    #import collections.abc as container_abcs\n",
        "\n",
        "# in VID_Trans_ReID.py\n",
        "\n",
        "#parser.add_argument(\"--ViT_path\", default=\"\", help=\"The name of the pretrained model\", type=str)\n",
        "\n",
        "\n",
        "#and change line 163 to\n",
        "\n",
        "#model = VID_Trans( num_classes=num_classes, camera_num=camera_num,pretrainpath=args.ViT_path)\n",
        "\n",
        "# and line 90 -- from\n",
        "    # imgs = Variable(imgs)\n",
        "    # to   with torch.no_grad():\n",
        "            # imgs = Variable(imgs)\n",
        "\n",
        "\n",
        "# in dataloader, change\n",
        "# root = '/content/MARS'\n",
        "\n",
        "# line 67 in Dataloader.py  -- change the batch_size = 16 instead of batch_size = 64"
      ]
    },
    {
      "cell_type": "code",
      "execution_count": null,
      "metadata": {
        "colab": {
          "base_uri": "https://localhost:8080/"
        },
        "id": "6TC5kZFTIK50",
        "outputId": "ffc5ea4f-5ada-4de4-c4b7-7e73e367210f"
      },
      "outputs": [
        {
          "output_type": "stream",
          "name": "stdout",
          "text": [
            "Collecting torch_ema\n",
            "  Downloading torch_ema-0.3-py3-none-any.whl (5.5 kB)\n",
            "Requirement already satisfied: torch in /usr/local/lib/python3.10/dist-packages (from torch_ema) (2.1.0+cu118)\n",
            "Requirement already satisfied: filelock in /usr/local/lib/python3.10/dist-packages (from torch->torch_ema) (3.12.4)\n",
            "Requirement already satisfied: typing-extensions in /usr/local/lib/python3.10/dist-packages (from torch->torch_ema) (4.5.0)\n",
            "Requirement already satisfied: sympy in /usr/local/lib/python3.10/dist-packages (from torch->torch_ema) (1.12)\n",
            "Requirement already satisfied: networkx in /usr/local/lib/python3.10/dist-packages (from torch->torch_ema) (3.2)\n",
            "Requirement already satisfied: jinja2 in /usr/local/lib/python3.10/dist-packages (from torch->torch_ema) (3.1.2)\n",
            "Requirement already satisfied: fsspec in /usr/local/lib/python3.10/dist-packages (from torch->torch_ema) (2023.6.0)\n",
            "Requirement already satisfied: triton==2.1.0 in /usr/local/lib/python3.10/dist-packages (from torch->torch_ema) (2.1.0)\n",
            "Requirement already satisfied: MarkupSafe>=2.0 in /usr/local/lib/python3.10/dist-packages (from jinja2->torch->torch_ema) (2.1.3)\n",
            "Requirement already satisfied: mpmath>=0.19 in /usr/local/lib/python3.10/dist-packages (from sympy->torch->torch_ema) (1.3.0)\n",
            "Installing collected packages: torch_ema\n",
            "Successfully installed torch_ema-0.3\n"
          ]
        }
      ],
      "source": [
        "!pip install torch_ema"
      ]
    },
    {
      "cell_type": "code",
      "source": [
        "%mkdir weights\n",
        "%cp /content/drive/MyDrive/Colab_Notebooks/VID/jx_vit_base_p16_224-80ecf9dd.pth ./weights/"
      ],
      "metadata": {
        "id": "ATEeCy-Z5mVz",
        "colab": {
          "base_uri": "https://localhost:8080/"
        },
        "outputId": "291f396b-39fe-4eda-da64-4a526a3efd8a"
      },
      "execution_count": null,
      "outputs": [
        {
          "output_type": "stream",
          "name": "stdout",
          "text": [
            "cp: cannot stat '/content/drive/MyDrive/Colab_Notebooks/VID/jx_vit_base_p16_224-80ecf9dd.pth': No such file or directory\n"
          ]
        }
      ]
    },
    {
      "cell_type": "code",
      "source": [
        "%cd /content/VID-Trans-ReID/"
      ],
      "metadata": {
        "colab": {
          "base_uri": "https://localhost:8080/"
        },
        "id": "sypr_q-6o6TO",
        "outputId": "7cf0d411-90bf-4e78-c2b9-61b90d4513d7"
      },
      "execution_count": null,
      "outputs": [
        {
          "output_type": "stream",
          "name": "stdout",
          "text": [
            "/content/VID-Trans-ReID\n"
          ]
        }
      ]
    },
    {
      "cell_type": "code",
      "source": [
        "# on 10 epochs, eval after 10 epochs - 26.10\n",
        "!python -u VID_Trans_ReID.py --Dataset_name 'Mars'  --ViT_path  '/content/VID-Trans-ReID/weights/jx_vit_base_p16_224-80ecf9dd.pth'"
      ],
      "metadata": {
        "colab": {
          "base_uri": "https://localhost:8080/"
        },
        "id": "llbgShnRAC5A",
        "outputId": "67bad5d1-5a55-4b93-f9cd-21edde5351b9"
      },
      "execution_count": null,
      "outputs": [
        {
          "output_type": "stream",
          "name": "stdout",
          "text": [
            "=> MARS loaded\n",
            "Dataset statistics:\n",
            "  ------------------------------\n",
            "  subset   | # ids | # tracklets\n",
            "  ------------------------------\n",
            "  train    |   625 |     8298\n",
            "  query    |   626 |     1980\n",
            "  gallery  |   622 |     9330\n",
            "  ------------------------------\n",
            "  total    |  1251 |    19608\n",
            "  number of images per tracklet: 2 ~ 920, average 59.5\n",
            "  ------------------------------\n",
            "/usr/local/lib/python3.10/dist-packages/torch/utils/data/dataloader.py:557: UserWarning: This DataLoader will create 4 worker processes in total. Our suggested max number of worker in current system is 2, which is smaller than what this DataLoader is going to create. Please be aware that excessive worker creation might get DataLoader running slow or even freeze, lower the worker number to avoid potential slowness/freeze if necessary.\n",
            "  warnings.warn(_create_warning_msg(\n",
            "using stride: [16, 16], and patch number is num_y16 * num_x8\n",
            "Resized position embedding from size:torch.Size([1, 197, 768]) to size: torch.Size([1, 129, 768]) with height:16 width: 8\n",
            "/content/VID-Trans-ReID/loss/center_loss.py:40: UserWarning: This overload of addmm_ is deprecated:\n",
            "\taddmm_(Number beta, Number alpha, Tensor mat1, Tensor mat2)\n",
            "Consider using one of the following signatures instead:\n",
            "\taddmm_(Tensor mat1, Tensor mat2, *, Number beta, Number alpha) (Triggered internally at ../torch/csrc/utils/python_arg_parser.cpp:1519.)\n",
            "  distmat.addmm_(1, -2, x, self.centers.t())\n",
            "Epoch[1] Iteration[50/471] Loss: 11.958, Acc: 0.002, Base Lr: 1.66e-03\n",
            "Epoch[1] Iteration[100/471] Loss: 11.436, Acc: 0.004, Base Lr: 1.66e-03\n",
            "Epoch[1] Iteration[150/471] Loss: 10.988, Acc: 0.008, Base Lr: 1.66e-03\n",
            "Epoch[1] Iteration[200/471] Loss: 10.654, Acc: 0.010, Base Lr: 1.66e-03\n",
            "Epoch[1] Iteration[250/471] Loss: 10.398, Acc: 0.014, Base Lr: 1.66e-03\n",
            "Epoch[1] Iteration[300/471] Loss: 10.209, Acc: 0.017, Base Lr: 1.66e-03\n",
            "Epoch[1] Iteration[350/471] Loss: 10.051, Acc: 0.022, Base Lr: 1.66e-03\n",
            "Epoch[1] Iteration[400/471] Loss: 9.893, Acc: 0.029, Base Lr: 1.66e-03\n",
            "Epoch[2] Iteration[50/471] Loss: 8.881, Acc: 0.020, Base Lr: 3.25e-03\n",
            "Epoch[2] Iteration[100/471] Loss: 8.835, Acc: 0.025, Base Lr: 3.25e-03\n",
            "Epoch[2] Iteration[150/471] Loss: 8.676, Acc: 0.033, Base Lr: 3.25e-03\n",
            "Epoch[2] Iteration[200/471] Loss: 8.571, Acc: 0.041, Base Lr: 3.25e-03\n",
            "Epoch[2] Iteration[250/471] Loss: 8.494, Acc: 0.046, Base Lr: 3.25e-03\n",
            "Epoch[2] Iteration[300/471] Loss: 8.424, Acc: 0.049, Base Lr: 3.25e-03\n",
            "Epoch[2] Iteration[350/471] Loss: 8.300, Acc: 0.062, Base Lr: 3.25e-03\n",
            "Epoch[2] Iteration[400/471] Loss: 8.133, Acc: 0.083, Base Lr: 3.25e-03\n",
            "Epoch[3] Iteration[50/471] Loss: 7.550, Acc: 0.079, Base Lr: 4.83e-03\n",
            "Epoch[3] Iteration[100/471] Loss: 7.507, Acc: 0.101, Base Lr: 4.83e-03\n",
            "Epoch[3] Iteration[150/471] Loss: 7.344, Acc: 0.113, Base Lr: 4.83e-03\n",
            "Epoch[3] Iteration[200/471] Loss: 7.188, Acc: 0.122, Base Lr: 4.83e-03\n",
            "Epoch[3] Iteration[250/471] Loss: 7.075, Acc: 0.134, Base Lr: 4.83e-03\n",
            "Epoch[3] Iteration[300/471] Loss: 6.917, Acc: 0.150, Base Lr: 4.83e-03\n",
            "Epoch[3] Iteration[350/471] Loss: 6.720, Acc: 0.177, Base Lr: 4.83e-03\n",
            "Epoch[3] Iteration[400/471] Loss: 6.487, Acc: 0.213, Base Lr: 4.83e-03\n",
            "Epoch[4] Iteration[50/471] Loss: 6.023, Acc: 0.220, Base Lr: 6.42e-03\n",
            "Epoch[4] Iteration[100/471] Loss: 5.943, Acc: 0.231, Base Lr: 6.42e-03\n",
            "Epoch[4] Iteration[150/471] Loss: 5.734, Acc: 0.256, Base Lr: 6.42e-03\n",
            "Epoch[4] Iteration[200/471] Loss: 5.553, Acc: 0.292, Base Lr: 6.42e-03\n",
            "Epoch[4] Iteration[250/471] Loss: 5.393, Acc: 0.319, Base Lr: 6.42e-03\n",
            "Epoch[4] Iteration[300/471] Loss: 5.249, Acc: 0.341, Base Lr: 6.42e-03\n",
            "Epoch[4] Iteration[350/471] Loss: 5.098, Acc: 0.370, Base Lr: 6.42e-03\n",
            "Epoch[4] Iteration[400/471] Loss: 4.916, Acc: 0.403, Base Lr: 6.42e-03\n",
            "Epoch[5] Iteration[50/471] Loss: 4.592, Acc: 0.415, Base Lr: 7.97e-03\n",
            "Epoch[5] Iteration[100/471] Loss: 4.469, Acc: 0.431, Base Lr: 7.97e-03\n",
            "Epoch[5] Iteration[150/471] Loss: 4.355, Acc: 0.456, Base Lr: 7.97e-03\n",
            "Epoch[5] Iteration[200/471] Loss: 4.265, Acc: 0.476, Base Lr: 7.97e-03\n",
            "Epoch[5] Iteration[250/471] Loss: 4.161, Acc: 0.500, Base Lr: 7.97e-03\n",
            "Epoch[5] Iteration[300/471] Loss: 4.058, Acc: 0.525, Base Lr: 7.97e-03\n",
            "Epoch[5] Iteration[350/471] Loss: 3.927, Acc: 0.551, Base Lr: 7.97e-03\n",
            "Epoch[5] Iteration[400/471] Loss: 3.792, Acc: 0.580, Base Lr: 7.97e-03\n",
            "Epoch[6] Iteration[50/471] Loss: 3.701, Acc: 0.609, Base Lr: 7.95e-03\n",
            "Epoch[6] Iteration[100/471] Loss: 3.550, Acc: 0.632, Base Lr: 7.95e-03\n",
            "Epoch[6] Iteration[150/471] Loss: 3.495, Acc: 0.648, Base Lr: 7.95e-03\n",
            "Epoch[6] Iteration[200/471] Loss: 3.424, Acc: 0.660, Base Lr: 7.95e-03\n",
            "Epoch[6] Iteration[250/471] Loss: 3.364, Acc: 0.675, Base Lr: 7.95e-03\n",
            "Epoch[6] Iteration[300/471] Loss: 3.290, Acc: 0.690, Base Lr: 7.95e-03\n",
            "Epoch[6] Iteration[350/471] Loss: 3.216, Acc: 0.706, Base Lr: 7.95e-03\n",
            "Epoch[6] Iteration[400/471] Loss: 3.127, Acc: 0.728, Base Lr: 7.95e-03\n",
            "Epoch[7] Iteration[50/471] Loss: 3.094, Acc: 0.756, Base Lr: 7.93e-03\n",
            "Epoch[7] Iteration[100/471] Loss: 2.965, Acc: 0.790, Base Lr: 7.93e-03\n",
            "Epoch[7] Iteration[150/471] Loss: 2.941, Acc: 0.787, Base Lr: 7.93e-03\n",
            "Epoch[7] Iteration[200/471] Loss: 2.914, Acc: 0.792, Base Lr: 7.93e-03\n",
            "Epoch[7] Iteration[250/471] Loss: 2.867, Acc: 0.798, Base Lr: 7.93e-03\n",
            "Epoch[7] Iteration[300/471] Loss: 2.817, Acc: 0.809, Base Lr: 7.93e-03\n",
            "Epoch[7] Iteration[350/471] Loss: 2.757, Acc: 0.820, Base Lr: 7.93e-03\n",
            "Epoch[7] Iteration[400/471] Loss: 2.701, Acc: 0.830, Base Lr: 7.93e-03\n",
            "Epoch[8] Iteration[50/471] Loss: 2.606, Acc: 0.890, Base Lr: 7.91e-03\n",
            "Epoch[8] Iteration[100/471] Loss: 2.617, Acc: 0.875, Base Lr: 7.91e-03\n",
            "Epoch[8] Iteration[150/471] Loss: 2.575, Acc: 0.882, Base Lr: 7.91e-03\n",
            "Epoch[8] Iteration[200/471] Loss: 2.565, Acc: 0.876, Base Lr: 7.91e-03\n",
            "Epoch[8] Iteration[250/471] Loss: 2.558, Acc: 0.876, Base Lr: 7.91e-03\n",
            "Epoch[8] Iteration[300/471] Loss: 2.517, Acc: 0.883, Base Lr: 7.91e-03\n",
            "Epoch[8] Iteration[350/471] Loss: 2.488, Acc: 0.885, Base Lr: 7.91e-03\n",
            "Epoch[8] Iteration[400/471] Loss: 2.446, Acc: 0.893, Base Lr: 7.91e-03\n",
            "Epoch[9] Iteration[50/471] Loss: 2.490, Acc: 0.919, Base Lr: 7.89e-03\n",
            "Epoch[9] Iteration[100/471] Loss: 2.449, Acc: 0.914, Base Lr: 7.89e-03\n",
            "Epoch[9] Iteration[150/471] Loss: 2.391, Acc: 0.919, Base Lr: 7.89e-03\n",
            "Epoch[9] Iteration[200/471] Loss: 2.368, Acc: 0.918, Base Lr: 7.89e-03\n",
            "Epoch[9] Iteration[250/471] Loss: 2.346, Acc: 0.920, Base Lr: 7.89e-03\n",
            "Epoch[9] Iteration[300/471] Loss: 2.316, Acc: 0.923, Base Lr: 7.89e-03\n",
            "Epoch[9] Iteration[350/471] Loss: 2.281, Acc: 0.927, Base Lr: 7.89e-03\n",
            "Epoch[9] Iteration[400/471] Loss: 2.246, Acc: 0.932, Base Lr: 7.89e-03\n",
            "Extracted features for query set, obtained 1980-by-13056 matrix\n",
            "Extracted features for gallery set, obtained 9330-by-13056 matrix\n",
            "Computing distance matrix\n",
            "Original Computing CMC and mAP\n",
            "Results ---------- \n",
            "mAP: 78.9% \n",
            "CMC curve r1: 0.92753625\n",
            "CMC: 0.9275, mAP : 0.7891\n",
            "Epoch[10] Iteration[50/471] Loss: 2.306, Acc: 0.949, Base Lr: 7.86e-03\n",
            "Epoch[10] Iteration[100/471] Loss: 2.266, Acc: 0.946, Base Lr: 7.86e-03\n",
            "Epoch[10] Iteration[150/471] Loss: 2.235, Acc: 0.940, Base Lr: 7.86e-03\n",
            "Epoch[10] Iteration[200/471] Loss: 2.218, Acc: 0.941, Base Lr: 7.86e-03\n",
            "Epoch[10] Iteration[250/471] Loss: 2.217, Acc: 0.939, Base Lr: 7.86e-03\n",
            "Epoch[10] Iteration[300/471] Loss: 2.181, Acc: 0.942, Base Lr: 7.86e-03\n",
            "Epoch[10] Iteration[350/471] Loss: 2.150, Acc: 0.944, Base Lr: 7.86e-03\n",
            "Epoch[10] Iteration[400/471] Loss: 2.130, Acc: 0.947, Base Lr: 7.86e-03\n",
            "Epoch[11] Iteration[50/471] Loss: 2.181, Acc: 0.962, Base Lr: 7.84e-03\n",
            "Epoch[11] Iteration[100/471] Loss: 2.161, Acc: 0.957, Base Lr: 7.84e-03\n",
            "Epoch[11] Iteration[150/471] Loss: 2.144, Acc: 0.957, Base Lr: 7.84e-03\n",
            "Epoch[11] Iteration[200/471] Loss: 2.111, Acc: 0.960, Base Lr: 7.84e-03\n",
            "Epoch[11] Iteration[250/471] Loss: 2.108, Acc: 0.959, Base Lr: 7.84e-03\n",
            "Epoch[11] Iteration[300/471] Loss: 2.090, Acc: 0.959, Base Lr: 7.84e-03\n",
            "Epoch[11] Iteration[350/471] Loss: 2.071, Acc: 0.961, Base Lr: 7.84e-03\n",
            "Epoch[11] Iteration[400/471] Loss: 2.047, Acc: 0.964, Base Lr: 7.84e-03\n",
            "Epoch[12] Iteration[50/471] Loss: 2.111, Acc: 0.967, Base Lr: 7.80e-03\n",
            "Epoch[12] Iteration[100/471] Loss: 2.074, Acc: 0.963, Base Lr: 7.80e-03\n",
            "Epoch[12] Iteration[150/471] Loss: 2.045, Acc: 0.966, Base Lr: 7.80e-03\n",
            "Epoch[12] Iteration[200/471] Loss: 2.021, Acc: 0.966, Base Lr: 7.80e-03\n",
            "Epoch[12] Iteration[250/471] Loss: 2.007, Acc: 0.966, Base Lr: 7.80e-03\n",
            "Epoch[12] Iteration[300/471] Loss: 1.991, Acc: 0.967, Base Lr: 7.80e-03\n",
            "Epoch[12] Iteration[350/471] Loss: 1.977, Acc: 0.969, Base Lr: 7.80e-03\n",
            "Epoch[12] Iteration[400/471] Loss: 1.966, Acc: 0.969, Base Lr: 7.80e-03\n",
            "Epoch[13] Iteration[50/471] Loss: 2.010, Acc: 0.967, Base Lr: 7.77e-03\n",
            "Epoch[13] Iteration[100/471] Loss: 1.984, Acc: 0.972, Base Lr: 7.77e-03\n",
            "Epoch[13] Iteration[150/471] Loss: 1.977, Acc: 0.968, Base Lr: 7.77e-03\n",
            "Epoch[13] Iteration[200/471] Loss: 1.974, Acc: 0.968, Base Lr: 7.77e-03\n",
            "Epoch[13] Iteration[250/471] Loss: 1.956, Acc: 0.970, Base Lr: 7.77e-03\n",
            "Epoch[13] Iteration[300/471] Loss: 1.944, Acc: 0.972, Base Lr: 7.77e-03\n",
            "Epoch[13] Iteration[350/471] Loss: 1.930, Acc: 0.972, Base Lr: 7.77e-03\n",
            "Epoch[13] Iteration[400/471] Loss: 1.918, Acc: 0.972, Base Lr: 7.77e-03\n",
            "Epoch[14] Iteration[50/471] Loss: 1.933, Acc: 0.985, Base Lr: 7.73e-03\n",
            "Epoch[14] Iteration[100/471] Loss: 1.910, Acc: 0.979, Base Lr: 7.73e-03\n",
            "Epoch[14] Iteration[150/471] Loss: 1.903, Acc: 0.979, Base Lr: 7.73e-03\n",
            "Epoch[14] Iteration[200/471] Loss: 1.903, Acc: 0.980, Base Lr: 7.73e-03\n",
            "Epoch[14] Iteration[250/471] Loss: 1.888, Acc: 0.983, Base Lr: 7.73e-03\n",
            "Epoch[14] Iteration[300/471] Loss: 1.874, Acc: 0.983, Base Lr: 7.73e-03\n",
            "Epoch[14] Iteration[350/471] Loss: 1.871, Acc: 0.981, Base Lr: 7.73e-03\n",
            "Epoch[14] Iteration[400/471] Loss: 1.857, Acc: 0.982, Base Lr: 7.73e-03\n",
            "Epoch[15] Iteration[50/471] Loss: 1.941, Acc: 0.975, Base Lr: 7.70e-03\n",
            "Epoch[15] Iteration[100/471] Loss: 1.941, Acc: 0.977, Base Lr: 7.70e-03\n",
            "Epoch[15] Iteration[150/471] Loss: 1.899, Acc: 0.982, Base Lr: 7.70e-03\n",
            "Epoch[15] Iteration[200/471] Loss: 1.890, Acc: 0.982, Base Lr: 7.70e-03\n",
            "Epoch[15] Iteration[250/471] Loss: 1.890, Acc: 0.981, Base Lr: 7.70e-03\n",
            "Epoch[15] Iteration[300/471] Loss: 1.880, Acc: 0.980, Base Lr: 7.70e-03\n",
            "Epoch[15] Iteration[350/471] Loss: 1.869, Acc: 0.981, Base Lr: 7.70e-03\n",
            "Epoch[15] Iteration[400/471] Loss: 1.861, Acc: 0.980, Base Lr: 7.70e-03\n",
            "Epoch[16] Iteration[50/471] Loss: 1.886, Acc: 0.975, Base Lr: 7.65e-03\n",
            "Epoch[16] Iteration[100/471] Loss: 1.871, Acc: 0.979, Base Lr: 7.65e-03\n",
            "Epoch[16] Iteration[150/471] Loss: 1.851, Acc: 0.982, Base Lr: 7.65e-03\n",
            "Epoch[16] Iteration[200/471] Loss: 1.834, Acc: 0.984, Base Lr: 7.65e-03\n",
            "Epoch[16] Iteration[250/471] Loss: 1.827, Acc: 0.985, Base Lr: 7.65e-03\n",
            "Epoch[16] Iteration[300/471] Loss: 1.818, Acc: 0.985, Base Lr: 7.65e-03\n",
            "Epoch[16] Iteration[350/471] Loss: 1.812, Acc: 0.985, Base Lr: 7.65e-03\n",
            "Epoch[16] Iteration[400/471] Loss: 1.811, Acc: 0.985, Base Lr: 7.65e-03\n",
            "Epoch[17] Iteration[50/471] Loss: 1.812, Acc: 0.990, Base Lr: 7.61e-03\n",
            "Epoch[17] Iteration[100/471] Loss: 1.820, Acc: 0.984, Base Lr: 7.61e-03\n",
            "Epoch[17] Iteration[150/471] Loss: 1.823, Acc: 0.982, Base Lr: 7.61e-03\n",
            "Epoch[17] Iteration[200/471] Loss: 1.816, Acc: 0.983, Base Lr: 7.61e-03\n",
            "Epoch[17] Iteration[250/471] Loss: 1.813, Acc: 0.984, Base Lr: 7.61e-03\n",
            "Epoch[17] Iteration[300/471] Loss: 1.810, Acc: 0.984, Base Lr: 7.61e-03\n",
            "Epoch[17] Iteration[350/471] Loss: 1.806, Acc: 0.984, Base Lr: 7.61e-03\n",
            "Epoch[17] Iteration[400/471] Loss: 1.796, Acc: 0.985, Base Lr: 7.61e-03\n",
            "Epoch[18] Iteration[50/471] Loss: 1.807, Acc: 0.982, Base Lr: 7.56e-03\n",
            "Epoch[18] Iteration[100/471] Loss: 1.801, Acc: 0.987, Base Lr: 7.56e-03\n",
            "Epoch[18] Iteration[150/471] Loss: 1.795, Acc: 0.985, Base Lr: 7.56e-03\n",
            "Epoch[18] Iteration[200/471] Loss: 1.789, Acc: 0.986, Base Lr: 7.56e-03\n",
            "Epoch[18] Iteration[250/471] Loss: 1.776, Acc: 0.987, Base Lr: 7.56e-03\n",
            "Epoch[18] Iteration[300/471] Loss: 1.770, Acc: 0.987, Base Lr: 7.56e-03\n",
            "Epoch[18] Iteration[350/471] Loss: 1.763, Acc: 0.988, Base Lr: 7.56e-03\n",
            "Epoch[18] Iteration[400/471] Loss: 1.762, Acc: 0.988, Base Lr: 7.56e-03\n",
            "Epoch[19] Iteration[50/471] Loss: 1.789, Acc: 0.990, Base Lr: 7.52e-03\n",
            "Epoch[19] Iteration[100/471] Loss: 1.773, Acc: 0.991, Base Lr: 7.52e-03\n",
            "Epoch[19] Iteration[150/471] Loss: 1.768, Acc: 0.991, Base Lr: 7.52e-03\n",
            "Epoch[19] Iteration[200/471] Loss: 1.773, Acc: 0.992, Base Lr: 7.52e-03\n",
            "Epoch[19] Iteration[250/471] Loss: 1.764, Acc: 0.991, Base Lr: 7.52e-03\n",
            "Epoch[19] Iteration[300/471] Loss: 1.756, Acc: 0.991, Base Lr: 7.52e-03\n",
            "Epoch[19] Iteration[350/471] Loss: 1.749, Acc: 0.992, Base Lr: 7.52e-03\n",
            "Epoch[19] Iteration[400/471] Loss: 1.745, Acc: 0.992, Base Lr: 7.52e-03\n",
            "Extracted features for query set, obtained 1980-by-13056 matrix\n",
            "Extracted features for gallery set, obtained 9330-by-13056 matrix\n",
            "Computing distance matrix\n",
            "Original Computing CMC and mAP\n",
            "Results ---------- \n",
            "mAP: 83.0% \n",
            "CMC curve r1: 0.93939394\n",
            "CMC: 0.9394, mAP : 0.8297\n",
            "Epoch[20] Iteration[50/471] Loss: 1.755, Acc: 0.993, Base Lr: 7.47e-03\n",
            "Epoch[20] Iteration[100/471] Loss: 1.767, Acc: 0.989, Base Lr: 7.47e-03\n",
            "Epoch[20] Iteration[150/471] Loss: 1.754, Acc: 0.990, Base Lr: 7.47e-03\n",
            "Epoch[20] Iteration[200/471] Loss: 1.755, Acc: 0.989, Base Lr: 7.47e-03\n",
            "Epoch[20] Iteration[250/471] Loss: 1.753, Acc: 0.988, Base Lr: 7.47e-03\n",
            "Epoch[20] Iteration[300/471] Loss: 1.749, Acc: 0.988, Base Lr: 7.47e-03\n",
            "Epoch[20] Iteration[350/471] Loss: 1.739, Acc: 0.988, Base Lr: 7.47e-03\n",
            "Epoch[20] Iteration[400/471] Loss: 1.731, Acc: 0.988, Base Lr: 7.47e-03\n"
          ]
        }
      ]
    },
    {
      "cell_type": "code",
      "execution_count": null,
      "metadata": {
        "colab": {
          "base_uri": "https://localhost:8080/"
        },
        "id": "basJ1Ja8dwlE",
        "outputId": "da61413c-aed8-4930-fcd5-c63a28bcfe94"
      },
      "outputs": [
        {
          "output_type": "stream",
          "name": "stdout",
          "text": [
            "=> MARS loaded\n",
            "Dataset statistics:\n",
            "  ------------------------------\n",
            "  subset   | # ids | # tracklets\n",
            "  ------------------------------\n",
            "  train    |   625 |     8298\n",
            "  query    |   626 |     1980\n",
            "  gallery  |   622 |     9330\n",
            "  ------------------------------\n",
            "  total    |  1251 |    19608\n",
            "  number of images per tracklet: 2 ~ 920, average 59.5\n",
            "  ------------------------------\n",
            "/usr/local/lib/python3.10/dist-packages/torch/utils/data/dataloader.py:557: UserWarning: This DataLoader will create 4 worker processes in total. Our suggested max number of worker in current system is 2, which is smaller than what this DataLoader is going to create. Please be aware that excessive worker creation might get DataLoader running slow or even freeze, lower the worker number to avoid potential slowness/freeze if necessary.\n",
            "  warnings.warn(_create_warning_msg(\n",
            "using stride: [16, 16], and patch number is num_y16 * num_x8\n",
            "Resized position embedding from size:torch.Size([1, 197, 768]) to size: torch.Size([1, 129, 768]) with height:16 width: 8\n",
            "/content/VID-Trans-ReID/loss/center_loss.py:40: UserWarning: This overload of addmm_ is deprecated:\n",
            "\taddmm_(Number beta, Number alpha, Tensor mat1, Tensor mat2)\n",
            "Consider using one of the following signatures instead:\n",
            "\taddmm_(Tensor mat1, Tensor mat2, *, Number beta, Number alpha) (Triggered internally at ../torch/csrc/utils/python_arg_parser.cpp:1519.)\n",
            "  distmat.addmm_(1, -2, x, self.centers.t())\n",
            "Epoch[1] Iteration[50/471] Loss: 11.958, Acc: 0.002, Base Lr: 1.66e-03\n",
            "Epoch[1] Iteration[100/471] Loss: 11.436, Acc: 0.004, Base Lr: 1.66e-03\n",
            "Epoch[1] Iteration[150/471] Loss: 10.988, Acc: 0.008, Base Lr: 1.66e-03\n",
            "Epoch[1] Iteration[200/471] Loss: 10.654, Acc: 0.010, Base Lr: 1.66e-03\n",
            "Epoch[1] Iteration[250/471] Loss: 10.398, Acc: 0.014, Base Lr: 1.66e-03\n",
            "Epoch[1] Iteration[300/471] Loss: 10.209, Acc: 0.017, Base Lr: 1.66e-03\n",
            "Epoch[1] Iteration[350/471] Loss: 10.051, Acc: 0.022, Base Lr: 1.66e-03\n",
            "Epoch[1] Iteration[400/471] Loss: 9.893, Acc: 0.029, Base Lr: 1.66e-03\n",
            "Epoch[2] Iteration[50/471] Loss: 8.881, Acc: 0.020, Base Lr: 3.25e-03\n",
            "Epoch[2] Iteration[100/471] Loss: 8.835, Acc: 0.025, Base Lr: 3.25e-03\n",
            "Epoch[2] Iteration[150/471] Loss: 8.676, Acc: 0.033, Base Lr: 3.25e-03\n",
            "Epoch[2] Iteration[200/471] Loss: 8.571, Acc: 0.041, Base Lr: 3.25e-03\n",
            "Epoch[2] Iteration[250/471] Loss: 8.494, Acc: 0.046, Base Lr: 3.25e-03\n",
            "Epoch[2] Iteration[300/471] Loss: 8.424, Acc: 0.049, Base Lr: 3.25e-03\n",
            "Epoch[2] Iteration[350/471] Loss: 8.300, Acc: 0.062, Base Lr: 3.25e-03\n",
            "Epoch[2] Iteration[400/471] Loss: 8.133, Acc: 0.083, Base Lr: 3.25e-03\n",
            "Epoch[3] Iteration[50/471] Loss: 7.550, Acc: 0.079, Base Lr: 4.83e-03\n",
            "Epoch[3] Iteration[100/471] Loss: 7.507, Acc: 0.101, Base Lr: 4.83e-03\n",
            "Epoch[3] Iteration[150/471] Loss: 7.344, Acc: 0.113, Base Lr: 4.83e-03\n",
            "Epoch[3] Iteration[200/471] Loss: 7.188, Acc: 0.122, Base Lr: 4.83e-03\n",
            "Epoch[3] Iteration[250/471] Loss: 7.075, Acc: 0.134, Base Lr: 4.83e-03\n",
            "Epoch[3] Iteration[300/471] Loss: 6.917, Acc: 0.150, Base Lr: 4.83e-03\n",
            "Epoch[3] Iteration[350/471] Loss: 6.720, Acc: 0.177, Base Lr: 4.83e-03\n",
            "Epoch[3] Iteration[400/471] Loss: 6.487, Acc: 0.213, Base Lr: 4.83e-03\n",
            "Epoch[4] Iteration[50/471] Loss: 6.023, Acc: 0.220, Base Lr: 6.42e-03\n",
            "Epoch[4] Iteration[100/471] Loss: 5.943, Acc: 0.231, Base Lr: 6.42e-03\n",
            "Epoch[4] Iteration[150/471] Loss: 5.734, Acc: 0.256, Base Lr: 6.42e-03\n",
            "Epoch[4] Iteration[200/471] Loss: 5.553, Acc: 0.292, Base Lr: 6.42e-03\n",
            "Epoch[4] Iteration[250/471] Loss: 5.393, Acc: 0.319, Base Lr: 6.42e-03\n",
            "Epoch[4] Iteration[300/471] Loss: 5.249, Acc: 0.341, Base Lr: 6.42e-03\n",
            "Epoch[4] Iteration[350/471] Loss: 5.098, Acc: 0.370, Base Lr: 6.42e-03\n",
            "Epoch[4] Iteration[400/471] Loss: 4.916, Acc: 0.403, Base Lr: 6.42e-03\n",
            "Epoch[5] Iteration[50/471] Loss: 4.592, Acc: 0.415, Base Lr: 7.97e-03\n",
            "Epoch[5] Iteration[100/471] Loss: 4.469, Acc: 0.431, Base Lr: 7.97e-03\n",
            "Epoch[5] Iteration[150/471] Loss: 4.355, Acc: 0.456, Base Lr: 7.97e-03\n",
            "Epoch[5] Iteration[200/471] Loss: 4.265, Acc: 0.476, Base Lr: 7.97e-03\n",
            "Epoch[5] Iteration[250/471] Loss: 4.161, Acc: 0.500, Base Lr: 7.97e-03\n",
            "Epoch[5] Iteration[300/471] Loss: 4.058, Acc: 0.525, Base Lr: 7.97e-03\n",
            "Epoch[5] Iteration[350/471] Loss: 3.927, Acc: 0.551, Base Lr: 7.97e-03\n",
            "Epoch[5] Iteration[400/471] Loss: 3.792, Acc: 0.580, Base Lr: 7.97e-03\n",
            "Epoch[6] Iteration[50/471] Loss: 3.701, Acc: 0.609, Base Lr: 7.95e-03\n",
            "Epoch[6] Iteration[100/471] Loss: 3.550, Acc: 0.632, Base Lr: 7.95e-03\n",
            "Epoch[6] Iteration[150/471] Loss: 3.495, Acc: 0.648, Base Lr: 7.95e-03\n",
            "Epoch[6] Iteration[200/471] Loss: 3.424, Acc: 0.660, Base Lr: 7.95e-03\n",
            "Epoch[6] Iteration[250/471] Loss: 3.364, Acc: 0.675, Base Lr: 7.95e-03\n",
            "Epoch[6] Iteration[300/471] Loss: 3.290, Acc: 0.690, Base Lr: 7.95e-03\n",
            "Epoch[6] Iteration[350/471] Loss: 3.216, Acc: 0.706, Base Lr: 7.95e-03\n",
            "Epoch[6] Iteration[400/471] Loss: 3.127, Acc: 0.728, Base Lr: 7.95e-03\n",
            "Epoch[7] Iteration[50/471] Loss: 3.094, Acc: 0.756, Base Lr: 7.93e-03\n",
            "Epoch[7] Iteration[100/471] Loss: 2.965, Acc: 0.790, Base Lr: 7.93e-03\n",
            "Epoch[7] Iteration[150/471] Loss: 2.941, Acc: 0.787, Base Lr: 7.93e-03\n",
            "Epoch[7] Iteration[200/471] Loss: 2.914, Acc: 0.792, Base Lr: 7.93e-03\n",
            "Epoch[7] Iteration[250/471] Loss: 2.867, Acc: 0.798, Base Lr: 7.93e-03\n",
            "Epoch[7] Iteration[300/471] Loss: 2.817, Acc: 0.809, Base Lr: 7.93e-03\n",
            "Epoch[7] Iteration[350/471] Loss: 2.757, Acc: 0.820, Base Lr: 7.93e-03\n",
            "Epoch[7] Iteration[400/471] Loss: 2.701, Acc: 0.830, Base Lr: 7.93e-03\n",
            "Epoch[8] Iteration[50/471] Loss: 2.606, Acc: 0.890, Base Lr: 7.91e-03\n",
            "Epoch[8] Iteration[100/471] Loss: 2.617, Acc: 0.875, Base Lr: 7.91e-03\n",
            "Epoch[8] Iteration[150/471] Loss: 2.575, Acc: 0.882, Base Lr: 7.91e-03\n",
            "Epoch[8] Iteration[200/471] Loss: 2.565, Acc: 0.876, Base Lr: 7.91e-03\n",
            "Epoch[8] Iteration[250/471] Loss: 2.558, Acc: 0.876, Base Lr: 7.91e-03\n",
            "Epoch[8] Iteration[300/471] Loss: 2.517, Acc: 0.883, Base Lr: 7.91e-03\n",
            "Epoch[8] Iteration[350/471] Loss: 2.488, Acc: 0.885, Base Lr: 7.91e-03\n",
            "Epoch[8] Iteration[400/471] Loss: 2.446, Acc: 0.893, Base Lr: 7.91e-03\n",
            "Epoch[9] Iteration[50/471] Loss: 2.490, Acc: 0.919, Base Lr: 7.89e-03\n",
            "Epoch[9] Iteration[100/471] Loss: 2.449, Acc: 0.914, Base Lr: 7.89e-03\n",
            "Epoch[9] Iteration[150/471] Loss: 2.391, Acc: 0.919, Base Lr: 7.89e-03\n",
            "Epoch[9] Iteration[200/471] Loss: 2.368, Acc: 0.918, Base Lr: 7.89e-03\n",
            "Epoch[9] Iteration[250/471] Loss: 2.346, Acc: 0.920, Base Lr: 7.89e-03\n",
            "Epoch[9] Iteration[300/471] Loss: 2.316, Acc: 0.923, Base Lr: 7.89e-03\n",
            "Epoch[9] Iteration[350/471] Loss: 2.281, Acc: 0.927, Base Lr: 7.89e-03\n",
            "Epoch[9] Iteration[400/471] Loss: 2.246, Acc: 0.932, Base Lr: 7.89e-03\n",
            "Extracted features for query set, obtained 1980-by-13056 matrix\n",
            "Extracted features for gallery set, obtained 9330-by-13056 matrix\n",
            "Computing distance matrix\n",
            "Original Computing CMC and mAP\n",
            "Results ---------- \n",
            "mAP: 78.9% \n",
            "CMC curve r1: 0.92753625\n",
            "CMC: 0.9275, mAP : 0.7891\n",
            "Epoch[10] Iteration[50/471] Loss: 2.306, Acc: 0.949, Base Lr: 7.86e-03\n",
            "Epoch[10] Iteration[100/471] Loss: 2.266, Acc: 0.946, Base Lr: 7.86e-03\n",
            "Epoch[10] Iteration[150/471] Loss: 2.235, Acc: 0.940, Base Lr: 7.86e-03\n",
            "Epoch[10] Iteration[200/471] Loss: 2.218, Acc: 0.941, Base Lr: 7.86e-03\n",
            "Epoch[10] Iteration[250/471] Loss: 2.217, Acc: 0.939, Base Lr: 7.86e-03\n",
            "Epoch[10] Iteration[300/471] Loss: 2.181, Acc: 0.942, Base Lr: 7.86e-03\n",
            "Epoch[10] Iteration[350/471] Loss: 2.150, Acc: 0.944, Base Lr: 7.86e-03\n",
            "Epoch[10] Iteration[400/471] Loss: 2.130, Acc: 0.947, Base Lr: 7.86e-03\n",
            "Epoch[11] Iteration[50/471] Loss: 2.181, Acc: 0.962, Base Lr: 7.84e-03\n",
            "Epoch[11] Iteration[100/471] Loss: 2.161, Acc: 0.957, Base Lr: 7.84e-03\n",
            "Epoch[11] Iteration[150/471] Loss: 2.144, Acc: 0.957, Base Lr: 7.84e-03\n",
            "Epoch[11] Iteration[200/471] Loss: 2.111, Acc: 0.960, Base Lr: 7.84e-03\n",
            "Epoch[11] Iteration[250/471] Loss: 2.108, Acc: 0.959, Base Lr: 7.84e-03\n",
            "Epoch[11] Iteration[300/471] Loss: 2.090, Acc: 0.959, Base Lr: 7.84e-03\n",
            "Epoch[11] Iteration[350/471] Loss: 2.071, Acc: 0.961, Base Lr: 7.84e-03\n",
            "Epoch[11] Iteration[400/471] Loss: 2.047, Acc: 0.964, Base Lr: 7.84e-03\n",
            "Epoch[12] Iteration[50/471] Loss: 2.111, Acc: 0.967, Base Lr: 7.80e-03\n",
            "Epoch[12] Iteration[100/471] Loss: 2.074, Acc: 0.963, Base Lr: 7.80e-03\n",
            "Epoch[12] Iteration[150/471] Loss: 2.045, Acc: 0.966, Base Lr: 7.80e-03\n",
            "Epoch[12] Iteration[200/471] Loss: 2.021, Acc: 0.966, Base Lr: 7.80e-03\n",
            "Epoch[12] Iteration[250/471] Loss: 2.007, Acc: 0.966, Base Lr: 7.80e-03\n",
            "Epoch[12] Iteration[300/471] Loss: 1.991, Acc: 0.967, Base Lr: 7.80e-03\n",
            "Epoch[12] Iteration[350/471] Loss: 1.977, Acc: 0.969, Base Lr: 7.80e-03\n",
            "Epoch[12] Iteration[400/471] Loss: 1.966, Acc: 0.969, Base Lr: 7.80e-03\n",
            "Epoch[13] Iteration[50/471] Loss: 2.010, Acc: 0.967, Base Lr: 7.77e-03\n",
            "Epoch[13] Iteration[100/471] Loss: 1.984, Acc: 0.972, Base Lr: 7.77e-03\n",
            "Epoch[13] Iteration[150/471] Loss: 1.977, Acc: 0.968, Base Lr: 7.77e-03\n",
            "Epoch[13] Iteration[200/471] Loss: 1.974, Acc: 0.968, Base Lr: 7.77e-03\n",
            "Epoch[13] Iteration[250/471] Loss: 1.956, Acc: 0.970, Base Lr: 7.77e-03\n",
            "Epoch[13] Iteration[300/471] Loss: 1.944, Acc: 0.972, Base Lr: 7.77e-03\n",
            "Epoch[13] Iteration[350/471] Loss: 1.930, Acc: 0.972, Base Lr: 7.77e-03\n",
            "Epoch[13] Iteration[400/471] Loss: 1.918, Acc: 0.972, Base Lr: 7.77e-03\n",
            "Epoch[14] Iteration[50/471] Loss: 1.933, Acc: 0.985, Base Lr: 7.73e-03\n",
            "Epoch[14] Iteration[100/471] Loss: 1.910, Acc: 0.979, Base Lr: 7.73e-03\n",
            "Epoch[14] Iteration[150/471] Loss: 1.903, Acc: 0.979, Base Lr: 7.73e-03\n",
            "Epoch[14] Iteration[200/471] Loss: 1.903, Acc: 0.980, Base Lr: 7.73e-03\n",
            "Epoch[14] Iteration[250/471] Loss: 1.888, Acc: 0.983, Base Lr: 7.73e-03\n",
            "Epoch[14] Iteration[300/471] Loss: 1.874, Acc: 0.983, Base Lr: 7.73e-03\n",
            "Epoch[14] Iteration[350/471] Loss: 1.871, Acc: 0.981, Base Lr: 7.73e-03\n",
            "Epoch[14] Iteration[400/471] Loss: 1.857, Acc: 0.982, Base Lr: 7.73e-03\n",
            "Epoch[15] Iteration[50/471] Loss: 1.941, Acc: 0.975, Base Lr: 7.70e-03\n",
            "Epoch[15] Iteration[100/471] Loss: 1.941, Acc: 0.977, Base Lr: 7.70e-03\n",
            "Epoch[15] Iteration[150/471] Loss: 1.899, Acc: 0.982, Base Lr: 7.70e-03\n",
            "Epoch[15] Iteration[200/471] Loss: 1.890, Acc: 0.982, Base Lr: 7.70e-03\n",
            "Epoch[15] Iteration[250/471] Loss: 1.890, Acc: 0.981, Base Lr: 7.70e-03\n",
            "Epoch[15] Iteration[300/471] Loss: 1.880, Acc: 0.980, Base Lr: 7.70e-03\n",
            "Epoch[15] Iteration[350/471] Loss: 1.869, Acc: 0.981, Base Lr: 7.70e-03\n",
            "Epoch[15] Iteration[400/471] Loss: 1.861, Acc: 0.980, Base Lr: 7.70e-03\n",
            "Epoch[16] Iteration[50/471] Loss: 1.886, Acc: 0.975, Base Lr: 7.65e-03\n",
            "Epoch[16] Iteration[100/471] Loss: 1.871, Acc: 0.979, Base Lr: 7.65e-03\n",
            "Epoch[16] Iteration[150/471] Loss: 1.851, Acc: 0.982, Base Lr: 7.65e-03\n",
            "Epoch[16] Iteration[200/471] Loss: 1.834, Acc: 0.984, Base Lr: 7.65e-03\n",
            "Epoch[16] Iteration[250/471] Loss: 1.827, Acc: 0.985, Base Lr: 7.65e-03\n",
            "Epoch[16] Iteration[300/471] Loss: 1.818, Acc: 0.985, Base Lr: 7.65e-03\n",
            "Epoch[16] Iteration[350/471] Loss: 1.812, Acc: 0.985, Base Lr: 7.65e-03\n",
            "Epoch[16] Iteration[400/471] Loss: 1.811, Acc: 0.985, Base Lr: 7.65e-03\n",
            "Epoch[17] Iteration[50/471] Loss: 1.812, Acc: 0.990, Base Lr: 7.61e-03\n",
            "Epoch[17] Iteration[100/471] Loss: 1.820, Acc: 0.984, Base Lr: 7.61e-03\n",
            "Epoch[17] Iteration[150/471] Loss: 1.823, Acc: 0.982, Base Lr: 7.61e-03\n",
            "Epoch[17] Iteration[200/471] Loss: 1.816, Acc: 0.983, Base Lr: 7.61e-03\n",
            "Epoch[17] Iteration[250/471] Loss: 1.813, Acc: 0.984, Base Lr: 7.61e-03\n",
            "Epoch[17] Iteration[300/471] Loss: 1.810, Acc: 0.984, Base Lr: 7.61e-03\n",
            "Epoch[17] Iteration[350/471] Loss: 1.806, Acc: 0.984, Base Lr: 7.61e-03\n",
            "Epoch[17] Iteration[400/471] Loss: 1.796, Acc: 0.985, Base Lr: 7.61e-03\n",
            "Epoch[18] Iteration[50/471] Loss: 1.807, Acc: 0.982, Base Lr: 7.56e-03\n",
            "Epoch[18] Iteration[100/471] Loss: 1.801, Acc: 0.987, Base Lr: 7.56e-03\n",
            "Epoch[18] Iteration[150/471] Loss: 1.795, Acc: 0.985, Base Lr: 7.56e-03\n",
            "Epoch[18] Iteration[200/471] Loss: 1.789, Acc: 0.986, Base Lr: 7.56e-03\n",
            "Epoch[18] Iteration[250/471] Loss: 1.776, Acc: 0.987, Base Lr: 7.56e-03\n",
            "Epoch[18] Iteration[300/471] Loss: 1.770, Acc: 0.987, Base Lr: 7.56e-03\n",
            "Epoch[18] Iteration[350/471] Loss: 1.763, Acc: 0.988, Base Lr: 7.56e-03\n",
            "Epoch[18] Iteration[400/471] Loss: 1.762, Acc: 0.988, Base Lr: 7.56e-03\n",
            "Epoch[19] Iteration[50/471] Loss: 1.789, Acc: 0.990, Base Lr: 7.52e-03\n",
            "Epoch[19] Iteration[100/471] Loss: 1.773, Acc: 0.991, Base Lr: 7.52e-03\n",
            "Epoch[19] Iteration[150/471] Loss: 1.768, Acc: 0.991, Base Lr: 7.52e-03\n",
            "Epoch[19] Iteration[200/471] Loss: 1.773, Acc: 0.992, Base Lr: 7.52e-03\n",
            "Epoch[19] Iteration[250/471] Loss: 1.764, Acc: 0.991, Base Lr: 7.52e-03\n",
            "Epoch[19] Iteration[300/471] Loss: 1.756, Acc: 0.991, Base Lr: 7.52e-03\n",
            "Epoch[19] Iteration[350/471] Loss: 1.749, Acc: 0.992, Base Lr: 7.52e-03\n",
            "Epoch[19] Iteration[400/471] Loss: 1.745, Acc: 0.992, Base Lr: 7.52e-03\n",
            "Extracted features for query set, obtained 1980-by-13056 matrix\n",
            "Extracted features for gallery set, obtained 9330-by-13056 matrix\n",
            "Computing distance matrix\n",
            "Original Computing CMC and mAP\n",
            "Results ---------- \n",
            "mAP: 83.0% \n",
            "CMC curve r1: 0.93939394\n",
            "CMC: 0.9394, mAP : 0.8297\n",
            "Epoch[20] Iteration[50/471] Loss: 1.755, Acc: 0.993, Base Lr: 7.47e-03\n",
            "Epoch[20] Iteration[100/471] Loss: 1.767, Acc: 0.989, Base Lr: 7.47e-03\n",
            "Epoch[20] Iteration[150/471] Loss: 1.754, Acc: 0.990, Base Lr: 7.47e-03\n",
            "Epoch[20] Iteration[200/471] Loss: 1.755, Acc: 0.989, Base Lr: 7.47e-03\n",
            "Epoch[20] Iteration[250/471] Loss: 1.753, Acc: 0.988, Base Lr: 7.47e-03\n",
            "Epoch[20] Iteration[300/471] Loss: 1.749, Acc: 0.988, Base Lr: 7.47e-03\n",
            "Epoch[20] Iteration[350/471] Loss: 1.739, Acc: 0.988, Base Lr: 7.47e-03\n",
            "Epoch[20] Iteration[400/471] Loss: 1.731, Acc: 0.988, Base Lr: 7.47e-03\n",
            "Epoch[21] Iteration[50/471] Loss: 1.764, Acc: 0.990, Base Lr: 7.41e-03\n",
            "Epoch[21] Iteration[100/471] Loss: 1.745, Acc: 0.990, Base Lr: 7.41e-03\n",
            "Epoch[21] Iteration[150/471] Loss: 1.734, Acc: 0.988, Base Lr: 7.41e-03\n",
            "Epoch[21] Iteration[200/471] Loss: 1.724, Acc: 0.990, Base Lr: 7.41e-03\n",
            "Epoch[21] Iteration[250/471] Loss: 1.715, Acc: 0.991, Base Lr: 7.41e-03\n",
            "Epoch[21] Iteration[300/471] Loss: 1.707, Acc: 0.991, Base Lr: 7.41e-03\n",
            "Epoch[21] Iteration[350/471] Loss: 1.705, Acc: 0.991, Base Lr: 7.41e-03\n",
            "Epoch[21] Iteration[400/471] Loss: 1.699, Acc: 0.992, Base Lr: 7.41e-03\n",
            "Epoch[22] Iteration[50/471] Loss: 1.723, Acc: 0.985, Base Lr: 7.36e-03\n",
            "Epoch[22] Iteration[100/471] Loss: 1.713, Acc: 0.991, Base Lr: 7.36e-03\n",
            "Epoch[22] Iteration[150/471] Loss: 1.704, Acc: 0.990, Base Lr: 7.36e-03\n",
            "Epoch[22] Iteration[200/471] Loss: 1.702, Acc: 0.991, Base Lr: 7.36e-03\n",
            "Epoch[22] Iteration[250/471] Loss: 1.705, Acc: 0.991, Base Lr: 7.36e-03\n",
            "Epoch[22] Iteration[300/471] Loss: 1.701, Acc: 0.991, Base Lr: 7.36e-03\n",
            "Epoch[22] Iteration[350/471] Loss: 1.704, Acc: 0.991, Base Lr: 7.36e-03\n",
            "Epoch[22] Iteration[400/471] Loss: 1.697, Acc: 0.992, Base Lr: 7.36e-03\n",
            "Epoch[23] Iteration[50/471] Loss: 1.727, Acc: 0.993, Base Lr: 7.30e-03\n",
            "Epoch[23] Iteration[100/471] Loss: 1.727, Acc: 0.991, Base Lr: 7.30e-03\n",
            "Epoch[23] Iteration[150/471] Loss: 1.705, Acc: 0.990, Base Lr: 7.30e-03\n",
            "Epoch[23] Iteration[200/471] Loss: 1.706, Acc: 0.990, Base Lr: 7.30e-03\n",
            "Epoch[23] Iteration[250/471] Loss: 1.699, Acc: 0.991, Base Lr: 7.30e-03\n",
            "Epoch[23] Iteration[300/471] Loss: 1.700, Acc: 0.990, Base Lr: 7.30e-03\n",
            "Epoch[23] Iteration[350/471] Loss: 1.694, Acc: 0.991, Base Lr: 7.30e-03\n",
            "Epoch[23] Iteration[400/471] Loss: 1.688, Acc: 0.991, Base Lr: 7.30e-03\n",
            "Epoch[24] Iteration[50/471] Loss: 1.692, Acc: 0.996, Base Lr: 7.24e-03\n",
            "Epoch[24] Iteration[100/471] Loss: 1.694, Acc: 0.996, Base Lr: 7.24e-03\n",
            "Epoch[24] Iteration[150/471] Loss: 1.691, Acc: 0.996, Base Lr: 7.24e-03\n",
            "Epoch[24] Iteration[200/471] Loss: 1.688, Acc: 0.995, Base Lr: 7.24e-03\n",
            "Epoch[24] Iteration[250/471] Loss: 1.690, Acc: 0.995, Base Lr: 7.24e-03\n",
            "Epoch[24] Iteration[300/471] Loss: 1.692, Acc: 0.994, Base Lr: 7.24e-03\n",
            "Epoch[24] Iteration[350/471] Loss: 1.690, Acc: 0.994, Base Lr: 7.24e-03\n",
            "Epoch[24] Iteration[400/471] Loss: 1.686, Acc: 0.994, Base Lr: 7.24e-03\n",
            "Epoch[25] Iteration[50/471] Loss: 1.709, Acc: 0.993, Base Lr: 7.18e-03\n",
            "Epoch[25] Iteration[100/471] Loss: 1.710, Acc: 0.994, Base Lr: 7.18e-03\n",
            "Epoch[25] Iteration[150/471] Loss: 1.695, Acc: 0.993, Base Lr: 7.18e-03\n",
            "Epoch[25] Iteration[200/471] Loss: 1.694, Acc: 0.994, Base Lr: 7.18e-03\n",
            "Epoch[25] Iteration[250/471] Loss: 1.686, Acc: 0.993, Base Lr: 7.18e-03\n",
            "Epoch[25] Iteration[300/471] Loss: 1.681, Acc: 0.992, Base Lr: 7.18e-03\n",
            "Epoch[25] Iteration[350/471] Loss: 1.678, Acc: 0.992, Base Lr: 7.18e-03\n",
            "Epoch[25] Iteration[400/471] Loss: 1.670, Acc: 0.992, Base Lr: 7.18e-03\n",
            "Epoch[26] Iteration[50/471] Loss: 1.681, Acc: 0.993, Base Lr: 7.11e-03\n",
            "Epoch[26] Iteration[100/471] Loss: 1.680, Acc: 0.992, Base Lr: 7.11e-03\n",
            "Epoch[26] Iteration[150/471] Loss: 1.680, Acc: 0.992, Base Lr: 7.11e-03\n",
            "Epoch[26] Iteration[200/471] Loss: 1.671, Acc: 0.993, Base Lr: 7.11e-03\n",
            "Epoch[26] Iteration[250/471] Loss: 1.666, Acc: 0.994, Base Lr: 7.11e-03\n",
            "Epoch[26] Iteration[300/471] Loss: 1.661, Acc: 0.994, Base Lr: 7.11e-03\n",
            "Epoch[26] Iteration[350/471] Loss: 1.658, Acc: 0.994, Base Lr: 7.11e-03\n",
            "Epoch[26] Iteration[400/471] Loss: 1.654, Acc: 0.994, Base Lr: 7.11e-03\n",
            "Epoch[27] Iteration[50/471] Loss: 1.662, Acc: 0.995, Base Lr: 7.04e-03\n",
            "Epoch[27] Iteration[100/471] Loss: 1.651, Acc: 0.995, Base Lr: 7.04e-03\n",
            "Epoch[27] Iteration[150/471] Loss: 1.661, Acc: 0.995, Base Lr: 7.04e-03\n",
            "Epoch[27] Iteration[200/471] Loss: 1.654, Acc: 0.994, Base Lr: 7.04e-03\n",
            "Epoch[27] Iteration[250/471] Loss: 1.657, Acc: 0.994, Base Lr: 7.04e-03\n",
            "Epoch[27] Iteration[300/471] Loss: 1.655, Acc: 0.994, Base Lr: 7.04e-03\n",
            "Epoch[27] Iteration[350/471] Loss: 1.653, Acc: 0.994, Base Lr: 7.04e-03\n",
            "Epoch[27] Iteration[400/471] Loss: 1.646, Acc: 0.993, Base Lr: 7.04e-03\n",
            "Epoch[28] Iteration[50/471] Loss: 1.651, Acc: 0.999, Base Lr: 6.97e-03\n",
            "Epoch[28] Iteration[100/471] Loss: 1.645, Acc: 0.999, Base Lr: 6.97e-03\n",
            "Epoch[28] Iteration[150/471] Loss: 1.641, Acc: 0.997, Base Lr: 6.97e-03\n",
            "Epoch[28] Iteration[200/471] Loss: 1.642, Acc: 0.996, Base Lr: 6.97e-03\n",
            "Epoch[28] Iteration[250/471] Loss: 1.638, Acc: 0.995, Base Lr: 6.97e-03\n",
            "Epoch[28] Iteration[300/471] Loss: 1.634, Acc: 0.996, Base Lr: 6.97e-03\n",
            "Epoch[28] Iteration[350/471] Loss: 1.632, Acc: 0.996, Base Lr: 6.97e-03\n",
            "Epoch[28] Iteration[400/471] Loss: 1.628, Acc: 0.996, Base Lr: 6.97e-03\n",
            "Epoch[29] Iteration[50/471] Loss: 1.657, Acc: 0.993, Base Lr: 6.90e-03\n",
            "Epoch[29] Iteration[100/471] Loss: 1.659, Acc: 0.995, Base Lr: 6.90e-03\n",
            "Epoch[29] Iteration[150/471] Loss: 1.653, Acc: 0.995, Base Lr: 6.90e-03\n",
            "Epoch[29] Iteration[200/471] Loss: 1.652, Acc: 0.993, Base Lr: 6.90e-03\n",
            "Epoch[29] Iteration[250/471] Loss: 1.643, Acc: 0.994, Base Lr: 6.90e-03\n",
            "Epoch[29] Iteration[300/471] Loss: 1.639, Acc: 0.995, Base Lr: 6.90e-03\n",
            "Epoch[29] Iteration[350/471] Loss: 1.636, Acc: 0.995, Base Lr: 6.90e-03\n",
            "Epoch[29] Iteration[400/471] Loss: 1.632, Acc: 0.995, Base Lr: 6.90e-03\n",
            "Extracted features for query set, obtained 1980-by-13056 matrix\n"
          ]
        }
      ],
      "source": [
        "# train ViT base-model on MARS dataset - on 120 epochs - incomplete\n",
        "!python -u VID_Trans_ReID.py --Dataset_name 'Mars'  --ViT_path  '/content/VID-Trans-ReID/weights/jx_vit_base_p16_224-80ecf9dd.pth'"
      ]
    },
    {
      "cell_type": "markdown",
      "source": [],
      "metadata": {
        "id": "yejcbyCLDz6H"
      }
    }
  ],
  "metadata": {
    "colab": {
      "provenance": [],
      "include_colab_link": true
    },
    "kernelspec": {
      "display_name": "Python 3",
      "name": "python3"
    },
    "language_info": {
      "name": "python"
    }
  },
  "nbformat": 4,
  "nbformat_minor": 0
}